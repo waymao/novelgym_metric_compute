{
 "cells": [
  {
   "cell_type": "code",
   "execution_count": 5,
   "metadata": {},
   "outputs": [],
   "source": [
    "with open(\"results.tex\", 'r') as f:\n",
    "    latex = f.read()"
   ]
  },
  {
   "cell_type": "code",
   "execution_count": 6,
   "metadata": {},
   "outputs": [
    {
     "name": "stdout",
     "output_type": "stream",
     "text": [
      "Hello world! This Earth is beautiful. Explore the world.\n"
     ]
    }
   ],
   "source": [
    "def replace_every_two_occurrences(s, target, replacement, mod_r=0):\n",
    "    count = 0\n",
    "    parts = s.split(target)\n",
    "    new_s = parts[0]\n",
    "\n",
    "    for part in parts[1:]:\n",
    "        count += 1\n",
    "        if count % 2 == mod_r:\n",
    "            new_s += replacement + part\n",
    "        else:\n",
    "            new_s += target + part\n",
    "\n",
    "    return new_s\n",
    "\n",
    "# Test the function with a sample string, target substring, and replacement substring\n",
    "sample_string = \"Hello world! This world is beautiful. Explore the world.\"\n",
    "target_substring = \"world\"\n",
    "replacement_substring = \"Earth\"\n",
    "result = replace_every_two_occurrences(sample_string, target_substring, replacement_substring)\n",
    "print(result)"
   ]
  },
  {
   "cell_type": "code",
   "execution_count": 7,
   "metadata": {},
   "outputs": [
    {
     "data": {
      "text/plain": [
       "113"
      ]
     },
     "execution_count": 7,
     "metadata": {},
     "output_type": "execute_result"
    }
   ],
   "source": [
    "latex.find(\"\\\\\\\\\")"
   ]
  },
  {
   "cell_type": "code",
   "execution_count": 8,
   "metadata": {},
   "outputs": [
    {
     "name": "stdout",
     "output_type": "stream",
     "text": [
      "\n",
      " $ & $ m2_mean \\pm m2_std $ & $ m3_mean \\pm m3_std $ & $ m4_mean \\pm m4_std $ & $ m5_mean \\pm m5_std $ \\\\\n",
      "\\begin{tabular}{lllllllll}\n",
      "\\bottomrule\n",
      "\\end{tabular}\n",
      "\\midrule\n",
      "\\toprule\n",
      "axe/pf/lidar_all/icm_ppo \n",
      "                          & $ 0.76 \\pm 0.205 $ & $ 70560 \\pm 17180 $ & $ 1.0 \\pm 0.003 $ & $ 129.6 \\pm 8.8 $ \\\\\n",
      "axe/pf/lidar_all/ppo \n",
      "                          & $ 0.69 \\pm 0.207 $ & $ 68160 \\pm 17934 $ & $ 1.0 \\pm 0.004 $ & $ 116.9 \\pm 9.88 $ \\\\\n",
      "axe/sa/lidar_all/icm_ppo \n",
      "                          & $ 1.0 \\pm 0.0 $ & $ 205714 \\pm 99019 $ & $ 0.98 \\pm 0.01 $ & $ 62.0 \\pm 8.67 $ \\\\\n",
      "axe/sa/lidar_all/ppo \n",
      "                          & $ 1.0 \\pm 0.0 $ & $ 114240 \\pm 19651 $ & $ 0.97 \\pm 0.018 $ & $ 63.1 \\pm 8.17 $ \\\\\n",
      "chest/sa/lidar_all/icm_ppo \n",
      "                          & $ 0.0 \\pm 0.004 $ & $ 24000 \\pm 0 $ & $ 1.0 \\pm 0.0 $ & $ -3.0 \\pm 0.78 $ \\\\\n",
      "chest/sa/lidar_all/ppo \n",
      "                          & $ 0.01 \\pm 0.009 $ & $ 24000 \\pm 0 $ & $ 0.98 \\pm 0.011 $ & $ -3.5 \\pm 3.13 $ \\\\\n",
      "dist_trade/pf/lidar_all/icm_ppo \n",
      "                          & $ 0.45 \\pm 0.069 $ & $ 102720 \\pm 20724 $ & $ 0.95 \\pm 0.017 $ & $ 126.9 \\pm 9.97 $ \\\\\n",
      "dist_trade/pf/lidar_all/ppo \n",
      "                          & $ 0.5 \\pm 0.07 $ & $ 96480 \\pm 21191 $ & $ 0.96 \\pm 0.02 $ & $ 122.8 \\pm 8.93 $ \\\\\n",
      "dist_trade/sa/lidar_all/icm_ppo \n",
      "                          & $ 0.96 \\pm 0.108 $ & $ 199200 \\pm 90471 $ & $ 0.99 \\pm 0.012 $ & $ 92.3 \\pm 15.17 $ \\\\\n",
      "dist_trade/sa/lidar_all/ppo \n",
      "                          & $ 0.93 \\pm 0.133 $ & $ 371200 \\pm 241457 $ & $ 0.96 \\pm 0.025 $ & $ 90.5 \\pm 7.31 $ \\\\\n",
      "fence/pf/lidar_all/icm_ppo \n",
      "                          & $ 0.31 \\pm 0.065 $ & $ 60480 \\pm 3840 $ & $ 0.96 \\pm 0.021 $ & $ 157.6 \\pm 6.24 $ \\\\\n",
      "fence/pf/lidar_all/ppo \n",
      "                          & $ 0.38 \\pm 0.04 $ & $ 64800 \\pm 12000 $ & $ 0.95 \\pm 0.01 $ & $ 162.2 \\pm 5.9 $ \\\\\n",
      "fence/sa/lidar_all/icm_ppo \n",
      "                          & $ 1.0 \\pm 0.0 $ & $ 880320 \\pm 57045 $ & $ 0.93 \\pm 0.018 $ & $ 72.3 \\pm 3.67 $ \\\\\n",
      "fence/sa/lidar_all/ppo \n",
      "                          & $ 1.0 \\pm 0.0 $ & $ 701760 \\pm 100589 $ & $ 0.92 \\pm 0.024 $ & $ 90.9 \\pm 9.49 $ \\\\\n",
      "fire/pf/lidar_all/icm_ppo \n",
      "                          & $ 1.0 \\pm 0.0 $ & $ 263520 \\pm 81979 $ & $ 0.95 \\pm 0.02 $ & $ 133.2 \\pm 21.38 $ \\\\\n",
      "fire/pf/lidar_all/ppo \n",
      "                          & $ 1.0 \\pm 0.0 $ & $ 256800 \\pm 41081 $ & $ 0.95 \\pm 0.019 $ & $ 143.3 \\pm 15.66 $ \\\\\n",
      "fire/sa/lidar_all/icm_ppo \n",
      "                          & $ 1.0 \\pm 0.0 $ & $ 296400 \\pm 28473 $ & $ 0.93 \\pm 0.015 $ & $ 105.3 \\pm 10.75 $ \\\\\n",
      "fire/sa/lidar_all/ppo \n",
      "                          & $ 1.0 \\pm 0.0 $ & $ 127200 \\pm 37932 $ & $ 0.96 \\pm 0.029 $ & $ 103.3 \\pm 13.22 $ \\\\\n"
     ]
    }
   ],
   "source": [
    "s = latex.split('\\n')\n",
    "s.sort()\n",
    "s = \"\\n\".join(s)\n",
    "s = replace_every_two_occurrences(s, \" & \", \" \\pm \", 0)\n",
    "s = s.replace(\" & \", \" $ & $ \")\n",
    "s = s.replace(\"\\\\\\\\\", \"$ \\\\\\\\\")\n",
    "s = s.replace(\"ppo $\", 'ppo \\n                         ')\n",
    "s = s.replace(\" \\\\hline\", '')\n",
    "print(s)"
   ]
  },
  {
   "cell_type": "code",
   "execution_count": null,
   "metadata": {},
   "outputs": [],
   "source": []
  },
  {
   "cell_type": "code",
   "execution_count": null,
   "metadata": {},
   "outputs": [],
   "source": []
  },
  {
   "cell_type": "code",
   "execution_count": null,
   "metadata": {},
   "outputs": [],
   "source": []
  },
  {
   "cell_type": "code",
   "execution_count": null,
   "metadata": {},
   "outputs": [],
   "source": []
  }
 ],
 "metadata": {
  "kernelspec": {
   "display_name": "novel-gym",
   "language": "python",
   "name": "python3"
  },
  "language_info": {
   "codemirror_mode": {
    "name": "ipython",
    "version": 3
   },
   "file_extension": ".py",
   "mimetype": "text/x-python",
   "name": "python",
   "nbconvert_exporter": "python",
   "pygments_lexer": "ipython3",
   "version": "3.10.12"
  }
 },
 "nbformat": 4,
 "nbformat_minor": 2
}
