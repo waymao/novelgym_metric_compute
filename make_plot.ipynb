{
 "cells": [
  {
   "cell_type": "code",
   "execution_count": 2,
   "metadata": {},
   "outputs": [],
   "source": [
    "with open(\"results.tex\", 'r') as f:\n",
    "    latex = f.read()"
   ]
  },
  {
   "cell_type": "code",
   "execution_count": 3,
   "metadata": {},
   "outputs": [
    {
     "name": "stdout",
     "output_type": "stream",
     "text": [
      "Hello world! This Earth is beautiful. Explore the world.\n"
     ]
    }
   ],
   "source": [
    "def replace_every_two_occurrences(s, target, replacement, mod_r=0):\n",
    "    count = 0\n",
    "    parts = s.split(target)\n",
    "    new_s = parts[0]\n",
    "\n",
    "    for part in parts[1:]:\n",
    "        count += 1\n",
    "        if count % 2 == mod_r:\n",
    "            new_s += replacement + part\n",
    "        else:\n",
    "            new_s += target + part\n",
    "\n",
    "    return new_s\n",
    "\n",
    "# Test the function with a sample string, target substring, and replacement substring\n",
    "sample_string = \"Hello world! This world is beautiful. Explore the world.\"\n",
    "target_substring = \"world\"\n",
    "replacement_substring = \"Earth\"\n",
    "result = replace_every_two_occurrences(sample_string, target_substring, replacement_substring)\n",
    "print(result)"
   ]
  },
  {
   "cell_type": "code",
   "execution_count": 4,
   "metadata": {},
   "outputs": [
    {
     "data": {
      "text/plain": [
       "113"
      ]
     },
     "execution_count": 4,
     "metadata": {},
     "output_type": "execute_result"
    }
   ],
   "source": [
    "latex.find(\"\\\\\\\\\")"
   ]
  },
  {
   "cell_type": "code",
   "execution_count": 5,
   "metadata": {},
   "outputs": [
    {
     "name": "stdout",
     "output_type": "stream",
     "text": [
      "\n",
      " $ & $ m2_mean \\pm m2_std $ & $ m3_mean \\pm m3_std $ & $ m4_mean \\pm m4_std $ & $ m5_mean \\pm m5_std $ \\\\\n",
      "\\begin{tabular}{lllrrllll}\n",
      "\\bottomrule\n",
      "\\end{tabular}\n",
      "\\midrule\n",
      "\\toprule\n",
      "axe_pf_lidar_all_icm_ppo \n",
      "                          & $ 0.7 \\pm 0.184 $ & $ 65400 \\pm 13132 $ & $ 1.0 \\pm 0.003 $ & $ 311.0 \\pm 14.96 $ \\\\\n",
      "dist_trade_pf_lidar_all_icm_ppo \n",
      "                          & $ 0.45 \\pm 0.069 $ & $ 102720 \\pm 20724 $ & $ 0.95 \\pm 0.017 $ & $ 245.5 \\pm 5.52 $ \\\\\n",
      "dist_trade_pf_lidar_all_ppo \n",
      "                          & $ 0.5 \\pm 0.07 $ & $ 96480 \\pm 21191 $ & $ 0.96 \\pm 0.02 $ & $ 246.1 \\pm 10.47 $ \\\\\n",
      "fence_pf_lidar_all_icm_ppo \n",
      "                          & $ 0.43 \\pm 0.0 $ & $ 62400 \\pm 0 $ & $ 0.95 \\pm 0.0 $ & $ 263.0 \\pm 0.0 $ \\\\\n",
      "fence_pf_lidar_all_ppo \n",
      "                          & $ 0.34 \\pm 0.0 $ & $ 52800 \\pm 0 $ & $ 0.94 \\pm 0.0 $ & $ 273.8 \\pm 0.0 $ \\\\\n"
     ]
    }
   ],
   "source": [
    "s = latex.split('\\n')\n",
    "s.sort()\n",
    "s = \"\\n\".join(s)\n",
    "s = replace_every_two_occurrences(s, \" & \", \" \\pm \", 0)\n",
    "s = s.replace(\" & \", \" $ & $ \")\n",
    "s = s.replace(\"\\\\\\\\\", \"$ \\\\\\\\\")\n",
    "s = s.replace(\"ppo $\", 'ppo \\n                         ')\n",
    "s = s.replace(\" \\\\hline\", '')\n",
    "print(s)"
   ]
  },
  {
   "cell_type": "code",
   "execution_count": null,
   "metadata": {},
   "outputs": [],
   "source": []
  },
  {
   "cell_type": "code",
   "execution_count": null,
   "metadata": {},
   "outputs": [],
   "source": []
  },
  {
   "cell_type": "code",
   "execution_count": null,
   "metadata": {},
   "outputs": [],
   "source": []
  },
  {
   "cell_type": "code",
   "execution_count": null,
   "metadata": {},
   "outputs": [],
   "source": []
  }
 ],
 "metadata": {
  "kernelspec": {
   "display_name": "novel-gym",
   "language": "python",
   "name": "python3"
  },
  "language_info": {
   "codemirror_mode": {
    "name": "ipython",
    "version": 3
   },
   "file_extension": ".py",
   "mimetype": "text/x-python",
   "name": "python",
   "nbconvert_exporter": "python",
   "pygments_lexer": "ipython3",
   "version": "3.10.12"
  }
 },
 "nbformat": 4,
 "nbformat_minor": 2
}
